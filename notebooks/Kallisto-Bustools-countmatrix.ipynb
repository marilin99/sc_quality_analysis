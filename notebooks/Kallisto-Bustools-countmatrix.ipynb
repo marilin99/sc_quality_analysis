{
 "cells": [
  {
   "cell_type": "code",
   "execution_count": 6,
   "id": "a3a37430",
   "metadata": {},
   "outputs": [],
   "source": [
    "import os\n",
    "import threading"
   ]
  },
  {
   "cell_type": "code",
   "execution_count": 7,
   "id": "c080bf95",
   "metadata": {},
   "outputs": [],
   "source": [
    "dir_to_pool_of_SRAs = \"/gpfs/space/projects/genomic_references/OneK1K/fastq/<specify-pool>\"\n",
    "num_threads = threading.active_count()"
   ]
  },
  {
   "cell_type": "code",
   "execution_count": 8,
   "id": "f9d407b4",
   "metadata": {},
   "outputs": [],
   "source": [
    "list_of_fastq = []\n",
    "for dirpath, _, filenames in os.walk(dir_to_pool_of_SRAs):\n",
    "    for filename in sorted(filenames):\n",
    "        if filename.endswith(\"_3.fastq.gz\") or filename.endswith(\"_2.fastq.gz\"):\n",
    "            list_of_fastq.append(os.path.join(dirpath, filename))\n",
    "fastq_files = \" \".join(list_of_fastq)"
   ]
  },
  {
   "cell_type": "code",
   "execution_count": null,
   "id": "9ade926b",
   "metadata": {},
   "outputs": [],
   "source": [
    "!kb ref -d human -i index.idx -g t2g.txt"
   ]
  },
  {
   "cell_type": "code",
   "execution_count": null,
   "id": "9c511c26",
   "metadata": {},
   "outputs": [],
   "source": [
    "!kb count -i index.idx -g t2g.txt -x 10xv2 -o ./kb_count_output -t {num_threads} -m 10G --verbose --h5ad {fastq_files}"
   ]
  }
 ],
 "metadata": {
  "kernelspec": {
   "display_name": "BioENV",
   "language": "python",
   "name": "bioenv"
  },
  "language_info": {
   "codemirror_mode": {
    "name": "ipython",
    "version": 3
   },
   "file_extension": ".py",
   "mimetype": "text/x-python",
   "name": "python",
   "nbconvert_exporter": "python",
   "pygments_lexer": "ipython3",
   "version": "3.8.11"
  }
 },
 "nbformat": 4,
 "nbformat_minor": 5
}
